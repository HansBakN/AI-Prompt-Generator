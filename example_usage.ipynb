{
 "cells": [
  {
   "cell_type": "markdown",
   "id": "db6d80f0",
   "metadata": {},
   "source": [
    "# Usage Example of `git-ai-review`\n",
    "This notebook demonstrates how to invoke the `generate-review` function directly from Python."
   ]
  },
  {
   "cell_type": "code",
   "execution_count": null,
   "id": "440e06b0",
   "metadata": {},
   "outputs": [],
   "source": [
    "from git_ai_review.cli import generate_review\n",
    "from pathlib import Path"
   ]
  },
  {
   "cell_type": "code",
   "execution_count": null,
   "id": "3de37b78",
   "metadata": {},
   "outputs": [],
   "source": [
    "# Create sample context and task files\n",
    "Path(\"feature.txt\").write_text(\n",
    "    \"Implement user avatar support with default avatars.\"\n",
    ")\n",
    "Path(\"task.txt\").write_text(\n",
    "    \"You are an AI code reviewer. Review the following changes for quality and best practices.\"\n",
    ")\n"
   ]
  },
  {
   "cell_type": "code",
   "execution_count": null,
   "id": "8ef2880d",
   "metadata": {},
   "outputs": [],
   "source": [
    "# Run the review generator\n",
    "generate_review(\n",
    "    ctx_file=Path(\"feature.txt\"),\n",
    "    task_file=Path(\"task.txt\"),\n",
    "    out_file=\"review_output.md\",\n",
    "    src=\"origin/main\",\n",
    "    dst=\"feature/avatar\",  # example branch\n",
    "    repo_path=Path(\".\")\n",
    ")\n",
    "print(\"Review written to review_output.md\")\n"
   ]
  },
  {
   "cell_type": "code",
   "execution_count": null,
   "id": "9a1a19c9",
   "metadata": {},
   "outputs": [],
   "source": [
    "# Display the first lines of the generated review\n",
    "print(Path(\"review_output.md\").read_text().splitlines()[:10])\n"
   ]
  }
 ],
 "metadata": {
  "kernelspec": {
   "display_name": "Python 3",
   "language": "python",
   "name": "python3"
  },
  "language_info": {
   "name": "python",
   "version": "3.13.3"
  }
 },
 "nbformat": 4,
 "nbformat_minor": 5
}
